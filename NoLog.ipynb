{
 "cells": [
  {
   "cell_type": "code",
   "execution_count": 1,
   "id": "9241ba6f",
   "metadata": {},
   "outputs": [],
   "source": [
    "import statsmodels.api as sm \n",
    "from statsmodels.tsa.stattools import adfuller \n",
    "import pandas as pd \n",
    "import numpy as np \n",
    "import statsmodels.formula.api as smf \n",
    "from sklearn import linear_model \n",
    "import matplotlib.pyplot as plt\n",
    "import statsmodels.tsa.api as smt\n",
    "import statsmodels.api as sm\n",
    "from statsmodels.tsa.arima.model import ARIMA\n",
    "from statsmodels.tsa.stattools import bds\n",
    "import pandas_datareader as data"
   ]
  },
  {
   "cell_type": "code",
   "execution_count": 2,
   "id": "a88e4e73",
   "metadata": {},
   "outputs": [
    {
     "data": {
      "text/html": [
       "<div>\n",
       "<style scoped>\n",
       "    .dataframe tbody tr th:only-of-type {\n",
       "        vertical-align: middle;\n",
       "    }\n",
       "\n",
       "    .dataframe tbody tr th {\n",
       "        vertical-align: top;\n",
       "    }\n",
       "\n",
       "    .dataframe thead th {\n",
       "        text-align: right;\n",
       "    }\n",
       "</style>\n",
       "<table border=\"1\" class=\"dataframe\">\n",
       "  <thead>\n",
       "    <tr style=\"text-align: right;\">\n",
       "      <th></th>\n",
       "      <th>High</th>\n",
       "      <th>Low</th>\n",
       "      <th>Open</th>\n",
       "      <th>Close</th>\n",
       "      <th>Volume</th>\n",
       "      <th>Adj Close</th>\n",
       "    </tr>\n",
       "    <tr>\n",
       "      <th>Date</th>\n",
       "      <th></th>\n",
       "      <th></th>\n",
       "      <th></th>\n",
       "      <th></th>\n",
       "      <th></th>\n",
       "      <th></th>\n",
       "    </tr>\n",
       "  </thead>\n",
       "  <tbody>\n",
       "    <tr>\n",
       "      <th>2015-08-31</th>\n",
       "      <td>148.399994</td>\n",
       "      <td>146.259995</td>\n",
       "      <td>147.380005</td>\n",
       "      <td>147.889999</td>\n",
       "      <td>4093100.0</td>\n",
       "      <td>115.018608</td>\n",
       "    </tr>\n",
       "    <tr>\n",
       "      <th>2015-09-01</th>\n",
       "      <td>144.979996</td>\n",
       "      <td>141.850006</td>\n",
       "      <td>144.910004</td>\n",
       "      <td>142.679993</td>\n",
       "      <td>5272000.0</td>\n",
       "      <td>110.966637</td>\n",
       "    </tr>\n",
       "    <tr>\n",
       "      <th>2015-09-02</th>\n",
       "      <td>145.080002</td>\n",
       "      <td>143.179993</td>\n",
       "      <td>144.740005</td>\n",
       "      <td>145.050003</td>\n",
       "      <td>4252000.0</td>\n",
       "      <td>112.809868</td>\n",
       "    </tr>\n",
       "    <tr>\n",
       "      <th>2015-09-03</th>\n",
       "      <td>148.029999</td>\n",
       "      <td>145.770004</td>\n",
       "      <td>146.050003</td>\n",
       "      <td>146.779999</td>\n",
       "      <td>3603500.0</td>\n",
       "      <td>114.155334</td>\n",
       "    </tr>\n",
       "    <tr>\n",
       "      <th>2015-09-04</th>\n",
       "      <td>145.399994</td>\n",
       "      <td>143.320007</td>\n",
       "      <td>144.570007</td>\n",
       "      <td>143.699997</td>\n",
       "      <td>4201100.0</td>\n",
       "      <td>111.759918</td>\n",
       "    </tr>\n",
       "    <tr>\n",
       "      <th>...</th>\n",
       "      <td>...</td>\n",
       "      <td>...</td>\n",
       "      <td>...</td>\n",
       "      <td>...</td>\n",
       "      <td>...</td>\n",
       "      <td>...</td>\n",
       "    </tr>\n",
       "    <tr>\n",
       "      <th>2021-06-22</th>\n",
       "      <td>146.809998</td>\n",
       "      <td>145.350006</td>\n",
       "      <td>146.520004</td>\n",
       "      <td>146.360001</td>\n",
       "      <td>2437000.0</td>\n",
       "      <td>146.360001</td>\n",
       "    </tr>\n",
       "    <tr>\n",
       "      <th>2021-06-23</th>\n",
       "      <td>146.500000</td>\n",
       "      <td>144.570007</td>\n",
       "      <td>146.429993</td>\n",
       "      <td>144.610001</td>\n",
       "      <td>3202600.0</td>\n",
       "      <td>144.610001</td>\n",
       "    </tr>\n",
       "    <tr>\n",
       "      <th>2021-06-24</th>\n",
       "      <td>146.190002</td>\n",
       "      <td>144.690002</td>\n",
       "      <td>145.800003</td>\n",
       "      <td>145.440002</td>\n",
       "      <td>3609700.0</td>\n",
       "      <td>145.440002</td>\n",
       "    </tr>\n",
       "    <tr>\n",
       "      <th>2021-06-25</th>\n",
       "      <td>146.929993</td>\n",
       "      <td>144.949997</td>\n",
       "      <td>145.380005</td>\n",
       "      <td>146.839996</td>\n",
       "      <td>3593500.0</td>\n",
       "      <td>146.839996</td>\n",
       "    </tr>\n",
       "    <tr>\n",
       "      <th>2021-06-28</th>\n",
       "      <td>147.300003</td>\n",
       "      <td>144.910004</td>\n",
       "      <td>147.009995</td>\n",
       "      <td>145.289993</td>\n",
       "      <td>3888900.0</td>\n",
       "      <td>145.289993</td>\n",
       "    </tr>\n",
       "  </tbody>\n",
       "</table>\n",
       "<p>1467 rows × 6 columns</p>\n",
       "</div>"
      ],
      "text/plain": [
       "                  High         Low        Open       Close     Volume  \\\n",
       "Date                                                                    \n",
       "2015-08-31  148.399994  146.259995  147.380005  147.889999  4093100.0   \n",
       "2015-09-01  144.979996  141.850006  144.910004  142.679993  5272000.0   \n",
       "2015-09-02  145.080002  143.179993  144.740005  145.050003  4252000.0   \n",
       "2015-09-03  148.029999  145.770004  146.050003  146.779999  3603500.0   \n",
       "2015-09-04  145.399994  143.320007  144.570007  143.699997  4201100.0   \n",
       "...                ...         ...         ...         ...        ...   \n",
       "2021-06-22  146.809998  145.350006  146.520004  146.360001  2437000.0   \n",
       "2021-06-23  146.500000  144.570007  146.429993  144.610001  3202600.0   \n",
       "2021-06-24  146.190002  144.690002  145.800003  145.440002  3609700.0   \n",
       "2021-06-25  146.929993  144.949997  145.380005  146.839996  3593500.0   \n",
       "2021-06-28  147.300003  144.910004  147.009995  145.289993  3888900.0   \n",
       "\n",
       "             Adj Close  \n",
       "Date                    \n",
       "2015-08-31  115.018608  \n",
       "2015-09-01  110.966637  \n",
       "2015-09-02  112.809868  \n",
       "2015-09-03  114.155334  \n",
       "2015-09-04  111.759918  \n",
       "...                ...  \n",
       "2021-06-22  146.360001  \n",
       "2021-06-23  144.610001  \n",
       "2021-06-24  145.440002  \n",
       "2021-06-25  146.839996  \n",
       "2021-06-28  145.289993  \n",
       "\n",
       "[1467 rows x 6 columns]"
      ]
     },
     "execution_count": 2,
     "metadata": {},
     "output_type": "execute_result"
    }
   ],
   "source": [
    "ibm=data.DataReader(\"IBM\",\n",
    "                        start='2015-9-1',\n",
    "                        end='2021-6-28',\n",
    "                        data_source='yahoo')\n",
    "ibm"
   ]
  },
  {
   "cell_type": "code",
   "execution_count": 3,
   "id": "a51e6510",
   "metadata": {},
   "outputs": [
    {
     "data": {
      "image/png": "[encoded data removed]",
      "text/plain": [
       "<Figure size 432x288 with 1 Axes>"
      ]
     },
     "metadata": {
      "needs_background": "light"
     },
     "output_type": "display_data"
    }
   ],
   "source": [
    "plt.plot(ibm['Adj Close'],label='Adj Close')\n",
    "plt.legend(loc='best', fontsize='large')\n",
    "plt.show()"
   ]
  },
  {
   "cell_type": "code",
   "execution_count": 4,
   "id": "243327bb",
   "metadata": {
    "scrolled": true
   },
   "outputs": [
    {
     "name": "stdout",
     "output_type": "stream",
     "text": [
      "ADF Statistic: -3.5015951438881134\n",
      "n_lags: 0.007946221767420042\n",
      "p-value: 0.007946221767420042\n",
      "\t1%:-3.435\n",
      "\t5%:-2.864\n",
      "\t10%:-2.568\n",
      "Reject Ho_ Time Series is then stationary\n"
     ]
    }
   ],
   "source": [
    "X = ibm['Adj Close'].values\n",
    "result = adfuller(X, maxlag=None, regression='c', autolag='AIC', store=False, regresults=False)\n",
    "print(f'ADF Statistic: {result[0]}')\n",
    "print(f'n_lags: {result[1]}')\n",
    "print(f'p-value: {result[1]}')\n",
    "for key, value in result[4].items():\n",
    "\tprint('\\t%s:%.3f'%(key,value))\n",
    "if result[0] < result [4] [\"5%\"]:\n",
    "\tprint(\"Reject Ho_ Time Series is then stationary\")\n",
    "else: \n",
    "\tprint(\"Failed to Reject Ho_ Time Series is then non-stationary\")"
   ]
  },
  {
   "cell_type": "code",
   "execution_count": 5,
   "id": "15a07261",
   "metadata": {},
   "outputs": [
    {
     "name": "stdout",
     "output_type": "stream",
     "text": [
      "ADF Statistic: -3.541601859506801\n",
      "n_lags: 0.03514564425297219\n",
      "p-value: 0.03514564425297219\n",
      "\t1%:-3.965\n",
      "\t5%:-3.414\n",
      "\t10%:-3.129\n",
      "Reject Ho_ Time Series is then stationary\n"
     ]
    }
   ],
   "source": [
    "result = adfuller(X, maxlag=None, regression='ct', autolag='AIC', store=False, regresults=False)\n",
    "print(f'ADF Statistic: {result[0]}')\n",
    "print(f'n_lags: {result[1]}')\n",
    "print(f'p-value: {result[1]}')\n",
    "for key, value in result[4].items():\n",
    "\tprint('\\t%s:%.3f'%(key,value))\n",
    "if result[0] < result [4] [\"5%\"]:\n",
    "\tprint(\"Reject Ho_ Time Series is then stationary\")\n",
    "else: \n",
    "\tprint(\"Failed to Reject Ho_ Time Series is then non-stationary\")"
   ]
  },
  {
   "cell_type": "code",
   "execution_count": 6,
   "id": "5b483724",
   "metadata": {},
   "outputs": [
    {
     "name": "stdout",
     "output_type": "stream",
     "text": [
      "                               SARIMAX Results                                \n",
      "==============================================================================\n",
      "Dep. Variable:                      y   No. Observations:                 1467\n",
      "Model:                 ARIMA(1, 0, 1)   Log Likelihood               -3018.427\n",
      "Date:                Thu, 01 Jul 2021   AIC                           6044.854\n",
      "Time:                        20:52:11   BIC                           6066.018\n",
      "Sample:                             0   HQIC                          6052.747\n",
      "                               - 1467   Scale                            3.578\n",
      "Covariance Type:                  opg                                         \n",
      "==============================================================================\n",
      "                 coef    std err          z      P>|z|      [0.025      0.975]\n",
      "------------------------------------------------------------------------------\n",
      "const        123.6740      3.637     34.005      0.000     116.546     130.802\n",
      "ar.L1          0.9873      0.004    252.309      0.000       0.980       0.995\n",
      "ma.L1         -0.0583      0.019     -3.143      0.002      -0.095      -0.022\n",
      "===================================================================================\n",
      "Ljung-Box (L1) (Q):                   0.00   Jarque-Bera (JB):              4699.80\n",
      "Prob(Q):                              0.97   Prob(JB):                         0.00\n",
      "Heteroskedasticity (H):               2.97   Skew:                            -0.86\n",
      "Prob(H) (two-sided):                  0.00   Kurtosis:                        11.60\n",
      "===================================================================================\n",
      "\n",
      "Warnings:\n",
      "[1] Covariance matrix calculated using the outer product of gradients (complex-step).\n"
     ]
    }
   ],
   "source": [
    "arima=ARIMA(ibm['Adj Close'].values,exog=None, order=(1, 0, 1), seasonal_order=(0, 0, 0, 0), trend=None, enforce_stationarity=True, enforce_invertibility=True, concentrate_scale=True)\n",
    "results = arima.fit()\n",
    "print(results.summary())"
   ]
  },
  {
   "cell_type": "code",
   "execution_count": 7,
   "id": "16372b1f",
   "metadata": {},
   "outputs": [
    {
     "data": {
      "image/png": "[encoded data removed]",
      "text/plain": [
       "<Figure size 432x288 with 1 Axes>"
      ]
     },
     "execution_count": 7,
     "metadata": {},
     "output_type": "execute_result"
    },
    {
     "data": {
      "image/png": "[encoded data removed]",
      "text/plain": [
       "<Figure size 432x288 with 1 Axes>"
      ]
     },
     "metadata": {
      "needs_background": "light"
     },
     "output_type": "display_data"
    },
    {
     "data": {
      "image/png": "[encoded data removed]",
      "text/plain": [
       "<Figure size 432x288 with 1 Axes>"
      ]
     },
     "metadata": {
      "needs_background": "light"
     },
     "output_type": "display_data"
    }
   ],
   "source": [
    "dtr = results.resid\n",
    "sm.graphics.tsa.plot_acf(dtr.squeeze(),lags=36)\n",
    "sm.graphics.tsa.plot_pacf(dtr.squeeze(),lags=36)"
   ]
  },
  {
   "cell_type": "code",
   "execution_count": 8,
   "id": "79ad299d",
   "metadata": {},
   "outputs": [
    {
     "data": {
      "text/plain": [
       "DescribeResult(nobs=1467, minmax=(-14.728437648849706, 10.861670607996189), mean=0.015851755018674023, variance=3.6298473248723195, skewness=-0.8975744236525754, kurtosis=8.566353067615609)"
      ]
     },
     "execution_count": 8,
     "metadata": {},
     "output_type": "execute_result"
    }
   ],
   "source": [
    "from scipy import stats\n",
    "stats.describe(dtr)"
   ]
  },
  {
   "cell_type": "code",
   "execution_count": 9,
   "id": "932fbf65",
   "metadata": {},
   "outputs": [
    {
     "data": {
      "text/plain": [
       "(array(1.65445364), array(0.09803538))"
      ]
     },
     "execution_count": 9,
     "metadata": {},
     "output_type": "execute_result"
    }
   ],
   "source": [
    "test = bds(X, max_dim=2, epsilon=None, distance=2)\n",
    "test"
   ]
  },
  {
   "cell_type": "code",
   "execution_count": null,
   "id": "e730b587",
   "metadata": {},
   "outputs": [],
   "source": []
  }
 ],
 "metadata": {
  "kernelspec": {
   "display_name": "Python 3 (ipykernel)",
   "language": "python",
   "name": "python3"
  },
  "language_info": {
   "codemirror_mode": {
    "name": "ipython",
    "version": 3
   },
   "file_extension": ".py",
   "mimetype": "text/x-python",
   "name": "python",
   "nbconvert_exporter": "python",
   "pygments_lexer": "ipython3",
   "version": "3.11.2"
  }
 },
 "nbformat": 4,
 "nbformat_minor": 5
}
