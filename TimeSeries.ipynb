{
 "cells": [
  {
   "cell_type": "code",
   "execution_count": 1,
   "id": "9241ba6f",
   "metadata": {},
   "outputs": [],
   "source": [
    "import statsmodels.api as sm \n",
    "from statsmodels.tsa.stattools import adfuller \n",
    "import pandas as pd \n",
    "import numpy as np \n",
    "import statsmodels.formula.api as smf \n",
    "import matplotlib.pyplot as plt\n",
    "from statsmodels.tsa.arima.model import ARIMA\n",
    "from statsmodels.tsa.arima.model import ARIMAResults\n",
    "from statsmodels.tsa.stattools import bds\n",
    "import pandas_datareader as data\n",
    "import statsmodels.tsa.stattools as stat"
   ]
  },
  {
   "cell_type": "code",
   "execution_count": 2,
   "id": "a88e4e73",
   "metadata": {},
   "outputs": [
    {
     "data": {
      "text/html": [
       "<div>\n",
       "<style scoped>\n",
       "    .dataframe tbody tr th:only-of-type {\n",
       "        vertical-align: middle;\n",
       "    }\n",
       "\n",
       "    .dataframe tbody tr th {\n",
       "        vertical-align: top;\n",
       "    }\n",
       "\n",
       "    .dataframe thead th {\n",
       "        text-align: right;\n",
       "    }\n",
       "</style>\n",
       "<table border=\"1\" class=\"dataframe\">\n",
       "  <thead>\n",
       "    <tr style=\"text-align: right;\">\n",
       "      <th></th>\n",
       "      <th>Date</th>\n",
       "      <th>Open</th>\n",
       "      <th>High</th>\n",
       "      <th>Low</th>\n",
       "      <th>Close</th>\n",
       "      <th>Adj Close</th>\n",
       "      <th>Volume</th>\n",
       "    </tr>\n",
       "  </thead>\n",
       "  <tbody>\n",
       "    <tr>\n",
       "      <th>0</th>\n",
       "      <td>2015-09-01</td>\n",
       "      <td>144.910004</td>\n",
       "      <td>144.979996</td>\n",
       "      <td>141.850006</td>\n",
       "      <td>142.679993</td>\n",
       "      <td>110.966637</td>\n",
       "      <td>5272000</td>\n",
       "    </tr>\n",
       "    <tr>\n",
       "      <th>1</th>\n",
       "      <td>2015-09-02</td>\n",
       "      <td>144.740005</td>\n",
       "      <td>145.080002</td>\n",
       "      <td>143.179993</td>\n",
       "      <td>145.050003</td>\n",
       "      <td>112.809868</td>\n",
       "      <td>4252000</td>\n",
       "    </tr>\n",
       "    <tr>\n",
       "      <th>2</th>\n",
       "      <td>2015-09-03</td>\n",
       "      <td>146.050003</td>\n",
       "      <td>148.029999</td>\n",
       "      <td>145.770004</td>\n",
       "      <td>146.779999</td>\n",
       "      <td>114.155334</td>\n",
       "      <td>3603500</td>\n",
       "    </tr>\n",
       "    <tr>\n",
       "      <th>3</th>\n",
       "      <td>2015-09-04</td>\n",
       "      <td>144.570007</td>\n",
       "      <td>145.399994</td>\n",
       "      <td>143.320007</td>\n",
       "      <td>143.699997</td>\n",
       "      <td>111.759918</td>\n",
       "      <td>4201100</td>\n",
       "    </tr>\n",
       "    <tr>\n",
       "      <th>4</th>\n",
       "      <td>2015-09-08</td>\n",
       "      <td>145.860001</td>\n",
       "      <td>147.339996</td>\n",
       "      <td>145.660004</td>\n",
       "      <td>147.229996</td>\n",
       "      <td>114.505325</td>\n",
       "      <td>3933300</td>\n",
       "    </tr>\n",
       "    <tr>\n",
       "      <th>...</th>\n",
       "      <td>...</td>\n",
       "      <td>...</td>\n",
       "      <td>...</td>\n",
       "      <td>...</td>\n",
       "      <td>...</td>\n",
       "      <td>...</td>\n",
       "      <td>...</td>\n",
       "    </tr>\n",
       "    <tr>\n",
       "      <th>1461</th>\n",
       "      <td>2021-06-22</td>\n",
       "      <td>146.520004</td>\n",
       "      <td>146.809998</td>\n",
       "      <td>145.350006</td>\n",
       "      <td>146.360001</td>\n",
       "      <td>146.360001</td>\n",
       "      <td>2437000</td>\n",
       "    </tr>\n",
       "    <tr>\n",
       "      <th>1462</th>\n",
       "      <td>2021-06-23</td>\n",
       "      <td>146.429993</td>\n",
       "      <td>146.500000</td>\n",
       "      <td>144.570007</td>\n",
       "      <td>144.610001</td>\n",
       "      <td>144.610001</td>\n",
       "      <td>3202600</td>\n",
       "    </tr>\n",
       "    <tr>\n",
       "      <th>1463</th>\n",
       "      <td>2021-06-24</td>\n",
       "      <td>145.800003</td>\n",
       "      <td>146.190002</td>\n",
       "      <td>144.690002</td>\n",
       "      <td>145.440002</td>\n",
       "      <td>145.440002</td>\n",
       "      <td>3609700</td>\n",
       "    </tr>\n",
       "    <tr>\n",
       "      <th>1464</th>\n",
       "      <td>2021-06-25</td>\n",
       "      <td>145.380005</td>\n",
       "      <td>146.929993</td>\n",
       "      <td>144.949997</td>\n",
       "      <td>146.839996</td>\n",
       "      <td>146.839996</td>\n",
       "      <td>3593500</td>\n",
       "    </tr>\n",
       "    <tr>\n",
       "      <th>1465</th>\n",
       "      <td>2021-06-28</td>\n",
       "      <td>147.009995</td>\n",
       "      <td>147.300003</td>\n",
       "      <td>144.910004</td>\n",
       "      <td>145.289993</td>\n",
       "      <td>145.289993</td>\n",
       "      <td>3886600</td>\n",
       "    </tr>\n",
       "  </tbody>\n",
       "</table>\n",
       "<p>1466 rows × 7 columns</p>\n",
       "</div>"
      ],
      "text/plain": [
       "            Date        Open        High         Low       Close   Adj Close  \\\n",
       "0     2015-09-01  144.910004  144.979996  141.850006  142.679993  110.966637   \n",
       "1     2015-09-02  144.740005  145.080002  143.179993  145.050003  112.809868   \n",
       "2     2015-09-03  146.050003  148.029999  145.770004  146.779999  114.155334   \n",
       "3     2015-09-04  144.570007  145.399994  143.320007  143.699997  111.759918   \n",
       "4     2015-09-08  145.860001  147.339996  145.660004  147.229996  114.505325   \n",
       "...          ...         ...         ...         ...         ...         ...   \n",
       "1461  2021-06-22  146.520004  146.809998  145.350006  146.360001  146.360001   \n",
       "1462  2021-06-23  146.429993  146.500000  144.570007  144.610001  144.610001   \n",
       "1463  2021-06-24  145.800003  146.190002  144.690002  145.440002  145.440002   \n",
       "1464  2021-06-25  145.380005  146.929993  144.949997  146.839996  146.839996   \n",
       "1465  2021-06-28  147.009995  147.300003  144.910004  145.289993  145.289993   \n",
       "\n",
       "       Volume  \n",
       "0     5272000  \n",
       "1     4252000  \n",
       "2     3603500  \n",
       "3     4201100  \n",
       "4     3933300  \n",
       "...       ...  \n",
       "1461  2437000  \n",
       "1462  3202600  \n",
       "1463  3609700  \n",
       "1464  3593500  \n",
       "1465  3886600  \n",
       "\n",
       "[1466 rows x 7 columns]"
      ]
     },
     "execution_count": 2,
     "metadata": {},
     "output_type": "execute_result"
    }
   ],
   "source": [
    "#ibm=data.DataReader(\"IBM\",\n",
    "#                        start='2015-9-1',\n",
    "#                        end='2021-6-28',\n",
    " #                       data_source='yahoo')\n",
    "ibm = pd.read_csv(\"C:\\\\Users\\\\Jasper\\\\Downloads\\\\IBM.csv\")    \n",
    "ibm"
   ]
  },
  {
   "cell_type": "code",
   "execution_count": 1,
   "id": "2c1f3f47",
   "metadata": {},
   "outputs": [
    {
     "ename": "NameError",
     "evalue": "name 'np' is not defined",
     "output_type": "error",
     "traceback": [
      "\u001b[1;31m---------------------------------------------------------------------------\u001b[0m",
      "\u001b[1;31mNameError\u001b[0m                                 Traceback (most recent call last)",
      "\u001b[1;32m<ipython-input-1-575ef4586aef>\u001b[0m in \u001b[0;36m<module>\u001b[1;34m\u001b[0m\n\u001b[1;32m----> 1\u001b[1;33m \u001b[0mibm\u001b[0m\u001b[1;33m[\u001b[0m\u001b[1;34m'Log Return'\u001b[0m\u001b[1;33m]\u001b[0m \u001b[1;33m=\u001b[0m \u001b[1;36m100\u001b[0m\u001b[1;33m*\u001b[0m\u001b[0mnp\u001b[0m\u001b[1;33m.\u001b[0m\u001b[0mlog\u001b[0m\u001b[1;33m(\u001b[0m\u001b[0mibm\u001b[0m\u001b[1;33m[\u001b[0m\u001b[1;34m'Adj Close'\u001b[0m\u001b[1;33m]\u001b[0m\u001b[1;33m/\u001b[0m\u001b[0mibm\u001b[0m\u001b[1;33m[\u001b[0m\u001b[1;34m'Adj Close'\u001b[0m\u001b[1;33m]\u001b[0m\u001b[1;33m.\u001b[0m\u001b[0mshift\u001b[0m\u001b[1;33m(\u001b[0m\u001b[1;36m1\u001b[0m\u001b[1;33m)\u001b[0m\u001b[1;33m)\u001b[0m\u001b[1;33m\u001b[0m\u001b[1;33m\u001b[0m\u001b[0m\n\u001b[0m\u001b[0;32m      2\u001b[0m \u001b[1;33m\u001b[0m\u001b[0m\n\u001b[0;32m      3\u001b[0m \u001b[0mibm\u001b[0m\u001b[1;33m\u001b[0m\u001b[1;33m\u001b[0m\u001b[0m\n",
      "\u001b[1;31mNameError\u001b[0m: name 'np' is not defined"
     ]
    }
   ],
   "source": [
    "ibm['Log Return'] = 100*np.log(ibm['Adj Close']/ibm['Adj Close'].shift(1))\n",
    "ibm = ibm.drop([0], axis = 0)\n",
    "ibm"
   ]
  },
  {
   "cell_type": "code",
   "execution_count": 4,
   "id": "a51e6510",
   "metadata": {},
   "outputs": [
    {
     "data": {
      "image/png": "[encoded data removed]",
      "text/plain": [
       "<Figure size 432x288 with 1 Axes>"
      ]
     },
     "metadata": {
      "needs_background": "light"
     },
     "output_type": "display_data"
    }
   ],
   "source": [
    "plt.plot(ibm['Log Return'],label='Daily Log Return')\n",
    "plt.legend(loc='best', fontsize='large')\n",
    "plt.show()"
   ]
  },
  {
   "cell_type": "code",
   "execution_count": 5,
   "id": "243327bb",
   "metadata": {
    "scrolled": true
   },
   "outputs": [
    {
     "name": "stdout",
     "output_type": "stream",
     "text": [
      "ADF Statistic: -41.57062350867211\n",
      "n_lags: 0.0\n",
      "p-value: 0.0\n",
      "\t1%:-3.435\n",
      "\t5%:-2.864\n",
      "\t10%:-2.568\n",
      "Reject Ho_ . Time Series is then stationary\n"
     ]
    }
   ],
   "source": [
    "#Part a)\n",
    "#No Trend\n",
    "X = ibm['Log Return'].values\n",
    "result = adfuller(X, maxlag=None, regression='c', autolag='BIC', store=False, regresults=False)\n",
    "print(f'ADF Statistic: {result[0]}')\n",
    "print(f'n_lags: {result[1]}')\n",
    "print(f'p-value: {result[1]}')\n",
    "for key, value in result[4].items():\n",
    "\tprint('\\t%s:%.3f'%(key,value))\n",
    "if result[0] < result [4] [\"5%\"]:\n",
    "\tprint(\"Reject Ho_ . Time Series is then stationary\")\n",
    "else: \n",
    "\tprint(\"Failed to Reject Ho_ . Time Series is then non-stationary\")"
   ]
  },
  {
   "cell_type": "code",
   "execution_count": 6,
   "id": "15a07261",
   "metadata": {},
   "outputs": [
    {
     "name": "stdout",
     "output_type": "stream",
     "text": [
      "ADF Statistic: -41.55781323985408\n",
      "n_lags: 0.0\n",
      "p-value: 0.0\n",
      "\t1%:-3.965\n",
      "\t5%:-3.413\n",
      "\t10%:-3.129\n",
      "Reject Ho_ . Time Series is then stationary\n"
     ]
    }
   ],
   "source": [
    "# With trend\n",
    "result = adfuller(X, maxlag=None, regression='ct', autolag='BIC', store=False, regresults=False)\n",
    "print(f'ADF Statistic: {result[0]}')\n",
    "print(f'n_lags: {result[1]}')\n",
    "print(f'p-value: {result[1]}')\n",
    "for key, value in result[4].items():\n",
    "\tprint('\\t%s:%.3f'%(key,value))\n",
    "if result[0] < result [4] [\"5%\"]:\n",
    "\tprint(\"Reject Ho_ . Time Series is then stationary\")\n",
    "else: \n",
    "\tprint(\"Failed to Reject Ho_ . Time Series is then non-stationary\")\n",
    "    "
   ]
  },
  {
   "cell_type": "code",
   "execution_count": 7,
   "id": "5b483724",
   "metadata": {},
   "outputs": [
    {
     "name": "stdout",
     "output_type": "stream",
     "text": [
      "                               SARIMAX Results                                \n",
      "==============================================================================\n",
      "Dep. Variable:                      y   No. Observations:                 1465\n",
      "Model:                 ARIMA(1, 0, 1)   Log Likelihood               -2776.383\n",
      "Date:                Sat, 10 Jul 2021   AIC                           5560.766\n",
      "Time:                        23:58:46   BIC                           5581.924\n",
      "Sample:                             0   HQIC                          5568.657\n",
      "                               - 1465   Scale                            2.592\n",
      "Covariance Type:                  opg                                         \n",
      "==============================================================================\n",
      "                 coef    std err          z      P>|z|      [0.025      0.975]\n",
      "------------------------------------------------------------------------------\n",
      "const          0.0184      0.040      0.458      0.647      -0.060       0.097\n",
      "ar.L1         -0.3561      0.141     -2.521      0.012      -0.633      -0.079\n",
      "ma.L1          0.2717      0.152      1.793      0.073      -0.025       0.569\n",
      "===================================================================================\n",
      "Ljung-Box (L1) (Q):                   0.03   Jarque-Bera (JB):              7603.13\n",
      "Prob(Q):                              0.86   Prob(JB):                         0.00\n",
      "Heteroskedasticity (H):               3.12   Skew:                            -0.84\n",
      "Prob(H) (two-sided):                  0.00   Kurtosis:                        14.03\n",
      "===================================================================================\n",
      "\n",
      "Warnings:\n",
      "[1] Covariance matrix calculated using the outer product of gradients (complex-step).\n"
     ]
    }
   ],
   "source": [
    "#Part c)\n",
    "# Fitting ARIMA(1,1)\n",
    "arima=ARIMA(ibm['Log Return'].values,exog=None, order=(1, 0, 1), seasonal_order=(0, 0, 0, 0), trend=None, enforce_stationarity=True, enforce_invertibility=True, concentrate_scale=True)\n",
    "results = arima.fit()\n",
    "print(results.summary())"
   ]
  },
  {
   "cell_type": "code",
   "execution_count": 8,
   "id": "932fbf65",
   "metadata": {},
   "outputs": [],
   "source": [
    "#Part C) bds test\n",
    "import statistics\n",
    "var= statistics.variance(results.resid)\n",
    "se= var**0.5\n",
    "std_res=results.resid/se"
   ]
  },
  {
   "cell_type": "code",
   "execution_count": 9,
   "id": "e730b587",
   "metadata": {},
   "outputs": [
    {
     "name": "stdout",
     "output_type": "stream",
     "text": [
      "bds_stat, pvalue:(array(0.35854979), array(0.71993191))\n"
     ]
    }
   ],
   "source": [
    "bds = stat.bds(std_res,max_dim=2, epsilon=None, distance = 1.5)\n",
    "print('bds_stat, pvalue:{}'.format(bds))\n",
    "#Fail to reject = iid"
   ]
  },
  {
   "cell_type": "code",
   "execution_count": 10,
   "id": "59a2c00a",
   "metadata": {},
   "outputs": [
    {
     "data": {
      "text/plain": [
       "array([ 1.00000000e+00, -8.43906938e-02,  3.00505345e-02, -1.07006422e-02,\n",
       "        3.81037296e-03, -1.35682904e-03,  4.83150877e-04, -1.72044350e-04,\n",
       "        6.12629714e-05, -2.18150243e-05,  7.76807380e-06, -2.76611980e-06,\n",
       "        9.84982759e-07, -3.50740787e-07,  1.24894673e-07, -4.44735254e-08,\n",
       "        1.58364998e-08, -5.63919150e-09,  2.00804983e-09, -7.15042949e-10,\n",
       "        2.54618392e-10, -9.06666176e-11,  3.22853172e-11, -1.14964221e-11,\n",
       "        4.09374081e-12, -1.45773300e-12,  5.19081593e-13, -1.84838856e-13,\n",
       "        6.58189446e-14, -2.34373528e-14,  8.34576593e-15])"
      ]
     },
     "execution_count": 10,
     "metadata": {},
     "output_type": "execute_result"
    }
   ],
   "source": [
    "#Part d)\n",
    "#IRF Function\n",
    "irf= results.impulse_responses(30) \n",
    "irf "
   ]
  },
  {
   "cell_type": "code",
   "execution_count": 11,
   "id": "79de79d4",
   "metadata": {},
   "outputs": [
    {
     "data": {
      "image/png": "[encoded data removed]",
      "text/plain": [
       "<Figure size 432x288 with 1 Axes>"
      ]
     },
     "metadata": {
      "needs_background": "light"
     },
     "output_type": "display_data"
    }
   ],
   "source": [
    "y = np.array(irf) \n",
    "\n",
    "plt.plot(y,label='IRF') \n",
    "plt.legend(loc='best', fontsize='large')\n",
    "plt.show()"
   ]
  }
 ],
 "metadata": {
  "kernelspec": {
   "display_name": "Python 3",
   "language": "python",
   "name": "python3"
  },
  "language_info": {
   "codemirror_mode": {
    "name": "ipython",
    "version": 3
   },
   "file_extension": ".py",
   "mimetype": "text/x-python",
   "name": "python",
   "nbconvert_exporter": "python",
   "pygments_lexer": "ipython3",
   "version": "3.8.8"
  }
 },
 "nbformat": 4,
 "nbformat_minor": 5
}
